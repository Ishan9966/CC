{
  "cells": [
    {
      "cell_type": "code",
      "execution_count": null,
      "metadata": {},
      "outputs": [],
      "source": [
        "# Q1\n",
        "import numpy as np\n",
        "\n",
        "gfg = np.matrix('[4, 1, 9; 12, 3, 1; 4, 5, 6]')\n",
        "sum_all = np.sum(gfg)\n",
        "sum_row_wise = np.sum(gfg, axis=1)\n",
        "sum_col_wise = np.sum(gfg, axis=0)\n",
        "\n",
        "# Q2 (a)\n",
        "array = np.array([10, 52, 62, 16, 16, 54, 453])\n",
        "sorted_array = np.sort(array)\n",
        "sorted_indices = np.argsort(array)\n",
        "smallest_elements = np.partition(array, 4)[:4]\n",
        "largest_elements = np.partition(array, -5)[-5:]\n",
        "\n",
        "# Q2 (b)\n",
        "array_float = np.array([1.0, 1.2, 2.2, 2.0, 3.0, 2.0])\n",
        "integer_elements = array_float[array_float == np.floor(array_float)]\n",
        "float_elements = array_float[array_float != np.floor(array_float)]\n",
        "\n",
        "# Q3\n",
        "first_name_initial = ord('I') \n",
        "last_name_initial = ord('V')  \n",
        "X = first_name_initial + last_name_initial\n",
        "\n",
        "sales = np.array([X, X+50, X+100, X+150, X+200])\n",
        "tax_rate = ((X % 5) + 5) / 100\n",
        "taxed_sales = sales * (1 + tax_rate)\n",
        "\n",
        "discounted_sales = np.where(sales < X+100, sales * 0.95, sales * 0.90)\n",
        "sales_matrix = np.tile(discounted_sales, (3, 1))\n",
        "sales_increased = sales_matrix * np.array([1.02, 1.04, 1.06]).reshape(3, 1)\n",
        "\n",
        "# Q4\n",
        "import matplotlib.pyplot as plt\n",
        "\n",
        "x = np.linspace(-10, 10, 100)\n",
        "y_square = x**2\n",
        "y_sin = np.sin(x)\n",
        "y_exp = np.exp(x)\n",
        "y_log = np.log(np.abs(x) + 1)\n",
        "\n",
        "plt.figure(figsize=(10, 6))\n",
        "plt.plot(x, y_square, label='y = x^2')\n",
        "plt.plot(x, y_sin, label='y = sin(x)')\n",
        "plt.plot(x, y_exp, label='y = exp(x)')\n",
        "plt.plot(x, y_log, label='y = log(|x|+1)')\n",
        "plt.title('Multiple Functions')\n",
        "plt.xlabel('x')\n",
        "plt.ylabel('y')\n",
        "plt.grid(True)\n",
        "plt.legend()\n",
        "plt.show()\n"
      ]
    }
  ],
  "metadata": {
    "anaconda-cloud": {},
    "kernelspec": {
      "display_name": "Python 3",
      "language": "python",
      "name": "python3"
    },
    "language_info": {
      "codemirror_mode": {
        "name": "ipython",
        "version": 3
      },
      "file_extension": ".py",
      "mimetype": "text/x-python",
      "name": "python",
      "nbconvert_exporter": "python",
      "pygments_lexer": "ipython3",
      "version": "3.6.1"
    }
  },
  "nbformat": 4,
  "nbformat_minor": 4
}
